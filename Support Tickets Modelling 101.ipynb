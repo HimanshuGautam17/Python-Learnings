{
 "cells": [
  {
   "cell_type": "markdown",
   "metadata": {},
   "source": [
    "This is an introductory description of Text Data Analytics using Support Tickets Data. The data is taken from this case study done by Microsoft & Endava hosted at https://github.com/karolzak/support-tickets-classification. \n",
    "\n",
    "The github repository contains nice python code to build an Naive Bayes & SVM models to predict multiple categorical labels for the tickets. They also used GridSearchCV to search for the optimal hyper parameters for these models. The code presented is quite well commented but can be daunting to understand for a beginner. \n",
    "\n",
    "Here i try to break up that code bit by bit to understand the transformations performed by every function. Interestingly all imports will be done just before they are needed, so that it is clear what package is adding what bits in the overall analysis. So Lets begin:"
   ]
  },
  {
   "cell_type": "code",
   "execution_count": 2,
   "metadata": {},
   "outputs": [
    {
     "name": "stdout",
     "output_type": "stream",
     "text": [
      "(48549, 9)\n"
     ]
    },
    {
     "data": {
      "text/html": [
       "<div>\n",
       "<style scoped>\n",
       "    .dataframe tbody tr th:only-of-type {\n",
       "        vertical-align: middle;\n",
       "    }\n",
       "\n",
       "    .dataframe tbody tr th {\n",
       "        vertical-align: top;\n",
       "    }\n",
       "\n",
       "    .dataframe thead th {\n",
       "        text-align: right;\n",
       "    }\n",
       "</style>\n",
       "<table border=\"1\" class=\"dataframe\">\n",
       "  <thead>\n",
       "    <tr style=\"text-align: right;\">\n",
       "      <th></th>\n",
       "      <th>title</th>\n",
       "      <th>body</th>\n",
       "      <th>ticket_type</th>\n",
       "      <th>category</th>\n",
       "      <th>sub_category1</th>\n",
       "      <th>sub_category2</th>\n",
       "      <th>business_service</th>\n",
       "      <th>urgency</th>\n",
       "      <th>impact</th>\n",
       "    </tr>\n",
       "  </thead>\n",
       "  <tbody>\n",
       "    <tr>\n",
       "      <th>0</th>\n",
       "      <td>NaN</td>\n",
       "      <td>hi since recruiter lead permission approve req...</td>\n",
       "      <td>1</td>\n",
       "      <td>4</td>\n",
       "      <td>2</td>\n",
       "      <td>21</td>\n",
       "      <td>71</td>\n",
       "      <td>3</td>\n",
       "      <td>4</td>\n",
       "    </tr>\n",
       "    <tr>\n",
       "      <th>1</th>\n",
       "      <td>connection with icon</td>\n",
       "      <td>icon dear please setup icon per icon engineers...</td>\n",
       "      <td>1</td>\n",
       "      <td>6</td>\n",
       "      <td>22</td>\n",
       "      <td>7</td>\n",
       "      <td>26</td>\n",
       "      <td>3</td>\n",
       "      <td>4</td>\n",
       "    </tr>\n",
       "    <tr>\n",
       "      <th>2</th>\n",
       "      <td>work experience user</td>\n",
       "      <td>work experience user hi work experience studen...</td>\n",
       "      <td>1</td>\n",
       "      <td>5</td>\n",
       "      <td>13</td>\n",
       "      <td>7</td>\n",
       "      <td>32</td>\n",
       "      <td>3</td>\n",
       "      <td>4</td>\n",
       "    </tr>\n",
       "    <tr>\n",
       "      <th>3</th>\n",
       "      <td>requesting for meeting</td>\n",
       "      <td>requesting meeting hi please help follow equip...</td>\n",
       "      <td>1</td>\n",
       "      <td>5</td>\n",
       "      <td>13</td>\n",
       "      <td>7</td>\n",
       "      <td>32</td>\n",
       "      <td>3</td>\n",
       "      <td>4</td>\n",
       "    </tr>\n",
       "    <tr>\n",
       "      <th>4</th>\n",
       "      <td>reset passwords for external accounts</td>\n",
       "      <td>re expire days hi ask help update passwords co...</td>\n",
       "      <td>1</td>\n",
       "      <td>4</td>\n",
       "      <td>2</td>\n",
       "      <td>76</td>\n",
       "      <td>4</td>\n",
       "      <td>3</td>\n",
       "      <td>4</td>\n",
       "    </tr>\n",
       "  </tbody>\n",
       "</table>\n",
       "</div>"
      ],
      "text/plain": [
       "                                   title  \\\n",
       "0                                    NaN   \n",
       "1                   connection with icon   \n",
       "2                   work experience user   \n",
       "3                 requesting for meeting   \n",
       "4  reset passwords for external accounts   \n",
       "\n",
       "                                                body  ticket_type  category  \\\n",
       "0  hi since recruiter lead permission approve req...            1         4   \n",
       "1  icon dear please setup icon per icon engineers...            1         6   \n",
       "2  work experience user hi work experience studen...            1         5   \n",
       "3  requesting meeting hi please help follow equip...            1         5   \n",
       "4  re expire days hi ask help update passwords co...            1         4   \n",
       "\n",
       "   sub_category1  sub_category2  business_service  urgency  impact  \n",
       "0              2             21                71        3       4  \n",
       "1             22              7                26        3       4  \n",
       "2             13              7                32        3       4  \n",
       "3             13              7                32        3       4  \n",
       "4              2             76                 4        3       4  "
      ]
     },
     "execution_count": 2,
     "metadata": {},
     "output_type": "execute_result"
    }
   ],
   "source": [
    "#Load Data\n",
    "import pandas as pd\n",
    "tkts = pd.read_csv(\"all_tickets.csv\")\n",
    "print(tkts.shape)\n",
    "tkts.head()"
   ]
  },
  {
   "cell_type": "markdown",
   "metadata": {},
   "source": [
    "The dataset contains 48549 support tickets raised by users. The interesting column here is \"body\", which contains the \"text of Subject\" + \"text of email body\" written by user. Also worth noting is that the dataset has been very effectively cleaned in a different script in repo, which saves us a lot of hassles.\n",
    "In NLP terms each of the body elements is a document and the casestudy built various document classification models on top of it. In default settings the column \"ticket_type\" is predicted using Naive Bayes algorithm. "
   ]
  },
  {
   "cell_type": "code",
   "execution_count": 3,
   "metadata": {},
   "outputs": [
    {
     "data": {
      "text/plain": [
       "count    48549.000000\n",
       "mean       266.640178\n",
       "std        384.651236\n",
       "min          2.000000\n",
       "25%         88.000000\n",
       "50%        150.000000\n",
       "75%        275.000000\n",
       "max       7011.000000\n",
       "Name: body_len, dtype: float64"
      ]
     },
     "execution_count": 3,
     "metadata": {},
     "output_type": "execute_result"
    }
   ],
   "source": [
    "tkts['body_len'] = tkts['body'].str.len()\n",
    "tkts['body_len'].describe()"
   ]
  },
  {
   "cell_type": "markdown",
   "metadata": {},
   "source": [
    "So the text data field is as small as 2 characters & as large as 7011 characters. Mean length is 266.6. Let us see the size of vocabulary by counting number of unique words. "
   ]
  },
  {
   "cell_type": "code",
   "execution_count": 4,
   "metadata": {},
   "outputs": [
    {
     "name": "stdout",
     "output_type": "stream",
     "text": [
      "Count: 12259\n"
     ]
    }
   ],
   "source": [
    "unqwords = set()\n",
    "tkts['body'].str.split().apply(unqwords.update)\n",
    "print('Count:', len(unqwords))"
   ]
  },
  {
   "cell_type": "markdown",
   "metadata": {},
   "source": [
    "So One Hot Encoding Feature representation for the dataset would be a matrix of 12259 X 48549 size. \n",
    "607 Million binary values amounting to a size of 607Mb. The size here might not be intimidating since sample \n",
    "size is quite small for a NLP problem. Also this model will not work if any new word is present in the \n",
    "unseen test data.\n",
    "\n",
    "In the first exercise, let us try to predict ticket_type field for a ticket. Let us see what valuee this \n",
    "column contain, along with its distribution. "
   ]
  },
  {
   "cell_type": "code",
   "execution_count": 6,
   "metadata": {},
   "outputs": [
    {
     "data": {
      "text/plain": [
       "1    34621\n",
       "0    13928\n",
       "Name: ticket_type, dtype: int64"
      ]
     },
     "execution_count": 6,
     "metadata": {},
     "output_type": "execute_result"
    }
   ],
   "source": [
    "tkts.ticket_type.value_counts()"
   ]
  },
  {
   "cell_type": "markdown",
   "metadata": {},
   "source": [
    "ticket_type is a categorical variable with 2 values (0 & 1). \n",
    "The class distribution is not ideal, but neither too extreme. In case class distribution is too skewed, we can\n",
    "consider passing in the minority class data multiple times, to balance the skewness. Let us move forward towards building a model. \n",
    "The biggest challenge in building a machine learning model (or statistical model) for NLP data is its unstructured format. The solution is to convert the unstructured text document into structured format by computing some of its properties. \n",
    "\n",
    "Simplest properties can be to compute lenght of the document in chars (or words / lines etc). In case the task was to classify wheather a document is a novel or a news article, even such a simple feature might be enough. Here let us just try to see the correlation of ticket_type of length of document as a fun exercise. "
   ]
  },
  {
   "cell_type": "code",
   "execution_count": 8,
   "metadata": {},
   "outputs": [
    {
     "data": {
      "text/plain": [
       "<matplotlib.collections.PathCollection at 0x1b7f849a940>"
      ]
     },
     "execution_count": 8,
     "metadata": {},
     "output_type": "execute_result"
    },
    {
     "data": {
      "image/png": "[encoded data removed]",
      "text/plain": [
       "<Figure size 432x288 with 1 Axes>"
      ]
     },
     "metadata": {
      "needs_background": "light"
     },
     "output_type": "display_data"
    }
   ],
   "source": [
    "import matplotlib.pyplot as plt\n",
    "%matplotlib inline\n",
    "plt.scatter(tkts.ticket_type, tkts.body_len)\n"
   ]
  },
  {
   "cell_type": "code",
   "execution_count": 10,
   "metadata": {},
   "outputs": [
    {
     "data": {
      "text/html": [
       "<div>\n",
       "<style scoped>\n",
       "    .dataframe tbody tr th:only-of-type {\n",
       "        vertical-align: middle;\n",
       "    }\n",
       "\n",
       "    .dataframe tbody tr th {\n",
       "        vertical-align: top;\n",
       "    }\n",
       "\n",
       "    .dataframe thead th {\n",
       "        text-align: right;\n",
       "    }\n",
       "</style>\n",
       "<table border=\"1\" class=\"dataframe\">\n",
       "  <thead>\n",
       "    <tr style=\"text-align: right;\">\n",
       "      <th></th>\n",
       "      <th>ticket_type</th>\n",
       "      <th>body_len</th>\n",
       "    </tr>\n",
       "  </thead>\n",
       "  <tbody>\n",
       "    <tr>\n",
       "      <th>ticket_type</th>\n",
       "      <td>1.000000</td>\n",
       "      <td>-0.112221</td>\n",
       "    </tr>\n",
       "    <tr>\n",
       "      <th>body_len</th>\n",
       "      <td>-0.112221</td>\n",
       "      <td>1.000000</td>\n",
       "    </tr>\n",
       "  </tbody>\n",
       "</table>\n",
       "</div>"
      ],
      "text/plain": [
       "             ticket_type  body_len\n",
       "ticket_type     1.000000 -0.112221\n",
       "body_len       -0.112221  1.000000"
      ]
     },
     "execution_count": 10,
     "metadata": {},
     "output_type": "execute_result"
    }
   ],
   "source": [
    "tkts[['ticket_type', 'body_len']].corr()"
   ]
  },
  {
   "cell_type": "markdown",
   "metadata": {},
   "source": [
    "As seen in the scatterplot and correlation matrix, there is no significant correlation between between ticket_type and body_len. Let us move towards a more formal approach. \n",
    "\n",
    "Now coming to formal methods as introduced in NLP classes, we can create a vocabulary of most frequent words, say 1000 most frequent words. Then we can create a 1000 length feature vector, where every feature is 0 or 1 depending on if the particular word is present in the document of not. A variant of method 3 can store the number of times the word occurred in a document. "
   ]
  },
  {
   "cell_type": "code",
   "execution_count": 20,
   "metadata": {},
   "outputs": [
    {
     "data": {
      "text/plain": [
       "(48549, 12258)"
      ]
     },
     "execution_count": 20,
     "metadata": {},
     "output_type": "execute_result"
    }
   ],
   "source": [
    "from sklearn.feature_extraction.text import CountVectorizer\n",
    "cv = CountVectorizer()\n",
    "cv_docs = cv.fit_transform(tkts['body'])\n",
    "cv_docs.shape"
   ]
  },
  {
   "cell_type": "markdown",
   "metadata": {},
   "source": [
    "As explained earlier, we have a 48549 documents X 12258 unique words matrix of tf-idf scores for our document \n",
    "corpus. Let us build a Multinomial Naive Bayes Classifier now:"
   ]
  },
  {
   "cell_type": "code",
   "execution_count": 22,
   "metadata": {},
   "outputs": [
    {
     "name": "stdout",
     "output_type": "stream",
     "text": [
      "(38839, 12258)\n",
      "(9710, 12258)\n"
     ]
    }
   ],
   "source": [
    "label_data = tkts['ticket_type']\n",
    "data = cv_docs\n",
    "\n",
    "from sklearn.model_selection import train_test_split\n",
    "train_data, test_data, train_label, test_label = train_test_split(data, label_data, test_size=0.2)\n",
    "\n",
    "print(train_data.shape)\n",
    "print(test_data.shape)"
   ]
  },
  {
   "cell_type": "code",
   "execution_count": 23,
   "metadata": {},
   "outputs": [
    {
     "name": "stdout",
     "output_type": "stream",
     "text": [
      "Model Accuracy:0.9926879505664263\n"
     ]
    }
   ],
   "source": [
    "from sklearn.naive_bayes import MultinomialNB\n",
    "import numpy as np\n",
    "mnb = MultinomialNB()\n",
    "mnb.fit(train_data, train_label)\n",
    "\n",
    "pred_label = mnb.predict(test_data)\n",
    "prediction_acc = np.mean(pred_label == test_label)\n",
    "print('Model Accuracy:' + str(prediction_acc))"
   ]
  },
  {
   "cell_type": "markdown",
   "metadata": {},
   "source": [
    "Concept of TF-IDF: In NLP Classification problems, it is seen that certain words are very good indicators of a document class. Say if the word \"inflation\" appears multiple times in a document, it is quite certain that the document is from a economics journal. This property of counting the number of occurrences of a given word is called Terf Frequency (TF). However there is another category of words which are very common - fillers. These are words like \"the\", \"of\", \"from\" etc, which are very common in any english text. Since these words add little information in classification, Inverse Document Frequency is computed to reduce the weights of these terms. IDF basically computes inverse of number of documents in which a word is present. Generally it is computed as a logarithm of ratio of total documents and number of documents containing the term. "
   ]
  },
  {
   "cell_type": "code",
   "execution_count": 24,
   "metadata": {},
   "outputs": [
    {
     "name": "stdout",
     "output_type": "stream",
     "text": [
      "(38839, 12258)\n",
      "(9710, 12258)\n"
     ]
    }
   ],
   "source": [
    "from sklearn.feature_extraction.text import TfidfVectorizer\n",
    "\n",
    "tfidf_vec = TfidfVectorizer(use_idf=True)\n",
    "tfidf_vec_docs = tfidf_vec.fit_transform(tkts['body'])\n",
    "tfidf_vec_docs.shape\n",
    "\n",
    "label_data = tkts['ticket_type']\n",
    "data = tfidf_vec_docs\n",
    "\n",
    "from sklearn.model_selection import train_test_split\n",
    "train_data, test_data, train_label, test_label = train_test_split(data, label_data, test_size=0.2)\n",
    "\n",
    "print(train_data.shape)\n",
    "print(test_data.shape)"
   ]
  },
  {
   "cell_type": "code",
   "execution_count": 27,
   "metadata": {},
   "outputs": [
    {
     "name": "stdout",
     "output_type": "stream",
     "text": [
      "Model Accuracy:0.9942327497425335\n",
      "Model F-Score:0.9959213401310998\n"
     ]
    }
   ],
   "source": [
    "from sklearn.naive_bayes import MultinomialNB\n",
    "import numpy as np\n",
    "mnb = MultinomialNB()\n",
    "mnb.fit(train_data, train_label)\n",
    "\n",
    "pred_label = mnb.predict(test_data)\n",
    "prediction_acc = np.mean(pred_label == test_label)\n",
    "print('Model Accuracy:' + str(prediction_acc))\n",
    "\n",
    "#Compute F Score\n",
    "from sklearn.metrics import f1_score\n",
    "f_score = f1_score(test_label, pred_label)\n",
    "print(\"Model F-Score:\" + str(f_score))"
   ]
  },
  {
   "cell_type": "code",
   "execution_count": null,
   "metadata": {},
   "outputs": [],
   "source": [
    "Well both Count Based and TFIDF based models give similar accuracy numbers of ~99.3%. Since Class distributions are fairly balanced F-Score is also quire "
   ]
  }
 ],
 "metadata": {
  "kernelspec": {
   "display_name": "Python 3",
   "language": "python",
   "name": "python3"
  },
  "language_info": {
   "codemirror_mode": {
    "name": "ipython",
    "version": 3
   },
   "file_extension": ".py",
   "mimetype": "text/x-python",
   "name": "python",
   "nbconvert_exporter": "python",
   "pygments_lexer": "ipython3",
   "version": "3.7.3"
  }
 },
 "nbformat": 4,
 "nbformat_minor": 2
}
